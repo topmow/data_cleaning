{
 "cells": [
  {
   "cell_type": "code",
   "execution_count": 67,
   "metadata": {},
   "outputs": [],
   "source": [
    "import pandas as pd\n",
    "import random\n",
    "import os"
   ]
  },
  {
   "cell_type": "code",
   "execution_count": 68,
   "metadata": {},
   "outputs": [],
   "source": [
    "df = pd.read_csv('input/PJME_hourly.csv', index_col=False)"
   ]
  },
  {
   "cell_type": "code",
   "execution_count": 69,
   "metadata": {},
   "outputs": [
    {
     "name": "stdout",
     "output_type": "stream",
     "text": [
      "<class 'pandas.core.frame.DataFrame'>\n",
      "RangeIndex: 145367 entries, 0 to 145366\n",
      "Data columns (total 2 columns):\n",
      " #   Column    Non-Null Count   Dtype  \n",
      "---  ------    --------------   -----  \n",
      " 0   Datetime  145364 non-null  object \n",
      " 1   PJME_MW   145365 non-null  float64\n",
      "dtypes: float64(1), object(1)\n",
      "memory usage: 2.2+ MB\n",
      "None\n",
      "Datetime    datetime64[ns]\n",
      "PJME_MW            float64\n",
      "dtype: object\n",
      "\n",
      "First 5 rows of the data:\n",
      "             Datetime  PJME_MW\n",
      "0 2002-12-31 01:00:00      NaN\n",
      "1                 NaT  25147.0\n",
      "2 2002-12-31 03:00:00  24574.0\n",
      "3 2002-12-31 04:00:00      NaN\n",
      "4 2002-12-31 05:00:00  24860.0\n"
     ]
    }
   ],
   "source": [
    "print(df.info())\n",
    "# Convert the 'Datetime' column to datetime type\n",
    "df['Datetime'] = pd.to_datetime(df['Datetime'])\n",
    "# Check the data types again after conversion\n",
    "print(df.dtypes)\n",
    "print(\"\\nFirst 5 rows of the data:\")\n",
    "print(df.head())"
   ]
  },
  {
   "cell_type": "markdown",
   "metadata": {},
   "source": [
    "Missing value \n"
   ]
  },
  {
   "cell_type": "code",
   "execution_count": 70,
   "metadata": {},
   "outputs": [
    {
     "name": "stdout",
     "output_type": "stream",
     "text": [
      "The file has 145367 rows and 2 columns.\n",
      "             Datetime  PJME_MW\n",
      "0 2002-12-31 01:00:00      NaN\n",
      "1                 NaT  25147.0\n",
      "2 2002-12-31 03:00:00  24574.0\n",
      "3 2002-12-31 04:00:00      NaN\n",
      "4 2002-12-31 05:00:00  24860.0\n"
     ]
    }
   ],
   "source": [
    "# Get the number of rows and columns\n",
    "num_rows, num_columns = df.shape\n",
    "print(f\"The file has {num_rows} rows and {num_columns} columns.\")\n",
    "print(df.head())"
   ]
  },
  {
   "cell_type": "code",
   "execution_count": 71,
   "metadata": {},
   "outputs": [
    {
     "name": "stdout",
     "output_type": "stream",
     "text": [
      "The data has missing values in the column'PJME_MW':\n",
      "             Datetime  PJME_MW\n",
      "0 2002-12-31 01:00:00      NaN\n",
      "3 2002-12-31 04:00:00      NaN\n"
     ]
    }
   ],
   "source": [
    "# Filter out rows with missing values ​​in column 'PJME_MW'\n",
    "missing_rows_PJME_MW =  df[df['PJME_MW'].isnull()]\n",
    "# Data has missing values ​​in column 'PJME_MW'\n",
    "print(f\"The data has missing values in the column'PJME_MW':\\n{missing_rows_PJME_MW}\")"
   ]
  },
  {
   "cell_type": "code",
   "execution_count": 72,
   "metadata": {},
   "outputs": [
    {
     "name": "stdout",
     "output_type": "stream",
     "text": [
      "Data has missing values after replacement\n",
      "Empty DataFrame\n",
      "Columns: [Datetime, PJME_MW]\n",
      "Index: []\n",
      "              Datetime       PJME_MW\n",
      "0  2002-12-31 01:00:00  2.514600e+04\n",
      "1                  NaT  2.514700e+04\n",
      "2  2002-12-31 03:00:00  2.457400e+04\n",
      "3  2002-12-31 04:00:00  2.471700e+04\n",
      "4  2002-12-31 05:00:00  2.486000e+04\n",
      "5                  NaT  2.622200e+04\n",
      "6  2002-12-31 07:00:00  2.870200e+04\n",
      "7  2002-12-31 08:00:00  3.069800e+04\n",
      "8                  NaT  3.180000e+04\n",
      "9  2002-12-31 10:00:00  3.235900e+04\n",
      "10 2002-12-31 11:00:00  3.237100e+10\n",
      "11 2002-12-31 12:00:00  3.190200e+04\n",
      "12 2002-12-31 13:00:00  3.112600e+04\n",
      "13 2002-12-31 13:00:00  3.112600e+04\n",
      "14 2002-12-31 14:00:00  3.036800e+10\n",
      "15 2002-12-31 15:00:00  2.956400e+04\n",
      "16 2002-12-31 16:00:00 -2.909800e+04\n",
      "17 2002-12-31 17:00:00  3.030800e+04\n",
      "18 2002-12-31 18:00:00  3.401700e+04\n",
      "19 2002-12-31 19:00:00  3.419500e+04\n"
     ]
    }
   ],
   "source": [
    "for i in range(len(df)):\n",
    "    if pd.isna(df.loc[i, 'PJME_MW']):   # Check if value is NaN\n",
    "        if i == 0:  # If it is the first line, replace NaN with the value of the line below and + with random\n",
    "            df.loc[i, 'PJME_MW'] = df.loc[i + 1, 'PJME_MW'] + random.randint(-1,1)\n",
    "        elif i == len(df) - 1:  # If it is the last line, replace NaN with the value of the line above and + with random\n",
    "            df.loc[i, 'PJME_MW'] = df.loc[i - 1, 'PJME_MW'] + random.randint(-1,1)\n",
    "        else:  # If NaN is in the middle lines, replace with the average of the previous and following lines\n",
    "            df.loc[i, 'PJME_MW'] = (df.loc[i - 1, 'PJME_MW'] + df.loc[i + 1, 'PJME_MW']) / 2\n",
    "# Check for missing values ​​after replace\n",
    "missing_rows = df[df['PJME_MW'].isnull()]\n",
    "print(f\"Data has missing values after replacement\\n{missing_rows}\")\n",
    "print(df.head(20))"
   ]
  },
  {
   "cell_type": "code",
   "execution_count": 73,
   "metadata": {},
   "outputs": [
    {
     "name": "stdout",
     "output_type": "stream",
     "text": [
      "Data has missing values ​​in column 'Datetime'\n",
      "  Datetime  PJME_MW\n",
      "1      NaT  25147.0\n",
      "5      NaT  26222.0\n",
      "8      NaT  31800.0\n"
     ]
    }
   ],
   "source": [
    "# Filter out rows with missing values ​​in column 'Datetime'\n",
    "missing_rows_time = df[df['Datetime'].isnull()] \n",
    "# Print lines with missing values ​​in column 'DateTime'\n",
    "print(f\"Data has missing values ​​in column 'Datetime'\\n{missing_rows_time}\")"
   ]
  },
  {
   "cell_type": "code",
   "execution_count": 74,
   "metadata": {},
   "outputs": [
    {
     "name": "stdout",
     "output_type": "stream",
     "text": [
      "\n",
      "Data after replacing missing values in column 'Datetime':\n",
      "             Datetime  PJME_MW\n",
      "0 2002-12-31 01:00:00  25146.0\n",
      "1 2002-12-31 02:00:00  25147.0\n",
      "2 2002-12-31 03:00:00  24574.0\n",
      "3 2002-12-31 04:00:00  24717.0\n",
      "4 2002-12-31 05:00:00  24860.0\n",
      "5 2002-12-31 06:00:00  26222.0\n",
      "6 2002-12-31 07:00:00  28702.0\n",
      "7 2002-12-31 08:00:00  30698.0\n",
      "8 2002-12-31 09:00:00  31800.0\n",
      "9 2002-12-31 10:00:00  32359.0\n"
     ]
    }
   ],
   "source": [
    "df['Datetime'] = pd.to_datetime(df['Datetime'], errors='coerce')\n",
    "#This is a pandas function used to convert a column or string value (or a column in a DataFrame) to datetime data type.\n",
    "#errors='coerce' is used to convert unparseable values to NaT    \n",
    "for i in range(len(df)):\n",
    "    if pd.isna(df.loc[i, 'Datetime']):\n",
    "        if i == 0:\n",
    "             # If is the first line, behind fill and -  1 hour to the Datetime value\n",
    "            df.loc[i, 'Datetime'] = df.loc[i + 1, 'Datetime'] - pd.Timedelta(hours=1)\n",
    "        else:\n",
    "            # If not the first line, forward fill and add 1 hour to the Datetime value\n",
    "            df.loc[i, 'Datetime'] = df.loc[i - 1, 'Datetime'] + pd.Timedelta(hours=1)\n",
    "# Print data after replacing missing values\n",
    "print(\"\\nData after replacing missing values in column 'Datetime':\")\n",
    "print(df.head(10))"
   ]
  },
  {
   "cell_type": "markdown",
   "metadata": {},
   "source": [
    "Dublicate"
   ]
  },
  {
   "cell_type": "code",
   "execution_count": 75,
   "metadata": {},
   "outputs": [
    {
     "name": "stdout",
     "output_type": "stream",
     "text": [
      "\n",
      "Before removing duplicates:\n",
      "              Datetime       PJME_MW\n",
      "0  2002-12-31 01:00:00  2.514600e+04\n",
      "1  2002-12-31 02:00:00  2.514700e+04\n",
      "2  2002-12-31 03:00:00  2.457400e+04\n",
      "3  2002-12-31 04:00:00  2.471700e+04\n",
      "4  2002-12-31 05:00:00  2.486000e+04\n",
      "5  2002-12-31 06:00:00  2.622200e+04\n",
      "6  2002-12-31 07:00:00  2.870200e+04\n",
      "7  2002-12-31 08:00:00  3.069800e+04\n",
      "8  2002-12-31 09:00:00  3.180000e+04\n",
      "9  2002-12-31 10:00:00  3.235900e+04\n",
      "10 2002-12-31 11:00:00  3.237100e+10\n",
      "11 2002-12-31 12:00:00  3.190200e+04\n",
      "12 2002-12-31 13:00:00  3.112600e+04\n",
      "13 2002-12-31 13:00:00  3.112600e+04\n",
      "14 2002-12-31 14:00:00  3.036800e+10\n",
      "15 2002-12-31 15:00:00  2.956400e+04\n",
      "16 2002-12-31 16:00:00 -2.909800e+04\n",
      "17 2002-12-31 17:00:00  3.030800e+04\n",
      "18 2002-12-31 18:00:00  3.401700e+04\n",
      "19 2002-12-31 19:00:00  3.419500e+04\n"
     ]
    }
   ],
   "source": [
    "# Handle duplicates\n",
    "print(\"\\nBefore removing duplicates:\")\n",
    "print(df.head(20))"
   ]
  },
  {
   "cell_type": "code",
   "execution_count": 76,
   "metadata": {},
   "outputs": [],
   "source": [
    "# Remove duplicate rows based on all columns, keeping only the first row\n",
    "df_cleaned = df.drop_duplicates(keep='first')"
   ]
  },
  {
   "cell_type": "code",
   "execution_count": 77,
   "metadata": {},
   "outputs": [
    {
     "name": "stdout",
     "output_type": "stream",
     "text": [
      "\n",
      "After removing duplicates:\n",
      "              Datetime       PJME_MW\n",
      "0  2002-12-31 01:00:00  2.514600e+04\n",
      "1  2002-12-31 02:00:00  2.514700e+04\n",
      "2  2002-12-31 03:00:00  2.457400e+04\n",
      "3  2002-12-31 04:00:00  2.471700e+04\n",
      "4  2002-12-31 05:00:00  2.486000e+04\n",
      "5  2002-12-31 06:00:00  2.622200e+04\n",
      "6  2002-12-31 07:00:00  2.870200e+04\n",
      "7  2002-12-31 08:00:00  3.069800e+04\n",
      "8  2002-12-31 09:00:00  3.180000e+04\n",
      "9  2002-12-31 10:00:00  3.235900e+04\n",
      "10 2002-12-31 11:00:00  3.237100e+10\n",
      "11 2002-12-31 12:00:00  3.190200e+04\n",
      "12 2002-12-31 13:00:00  3.112600e+04\n",
      "14 2002-12-31 14:00:00  3.036800e+10\n",
      "15 2002-12-31 15:00:00  2.956400e+04\n",
      "16 2002-12-31 16:00:00 -2.909800e+04\n",
      "17 2002-12-31 17:00:00  3.030800e+04\n",
      "18 2002-12-31 18:00:00  3.401700e+04\n",
      "19 2002-12-31 19:00:00  3.419500e+04\n",
      "20 2002-12-31 20:00:00  3.279000e+04\n"
     ]
    }
   ],
   "source": [
    "print(\"\\nAfter removing duplicates:\")\n",
    "print(df_cleaned.head(20))"
   ]
  },
  {
   "cell_type": "code",
   "execution_count": 78,
   "metadata": {},
   "outputs": [
    {
     "name": "stdout",
     "output_type": "stream",
     "text": [
      "Number of rows before removing duplicates: 145367\n",
      "Number of rows after removing duplicates: 145366\n"
     ]
    }
   ],
   "source": [
    "# Check the number of rows before and after removing duplicates\n",
    "num_rows_after = len(df_cleaned)\n",
    "print(f\"Number of rows before removing duplicates: {num_rows}\")\n",
    "print(f\"Number of rows after removing duplicates: {num_rows_after}\")"
   ]
  },
  {
   "cell_type": "code",
   "execution_count": 79,
   "metadata": {},
   "outputs": [
    {
     "name": "stdout",
     "output_type": "stream",
     "text": [
      "\n",
      "Data after cleaning:\n",
      "              Datetime       PJME_MW\n",
      "0  2002-12-31 01:00:00  2.514600e+04\n",
      "1  2002-12-31 02:00:00  2.514700e+04\n",
      "2  2002-12-31 03:00:00  2.457400e+04\n",
      "3  2002-12-31 04:00:00  2.471700e+04\n",
      "4  2002-12-31 05:00:00  2.486000e+04\n",
      "5  2002-12-31 06:00:00  2.622200e+04\n",
      "6  2002-12-31 07:00:00  2.870200e+04\n",
      "7  2002-12-31 08:00:00  3.069800e+04\n",
      "8  2002-12-31 09:00:00  3.180000e+04\n",
      "9  2002-12-31 10:00:00  3.235900e+04\n",
      "10 2002-12-31 11:00:00  3.237100e+10\n",
      "11 2002-12-31 12:00:00  3.190200e+04\n",
      "12 2002-12-31 13:00:00  3.112600e+04\n",
      "14 2002-12-31 14:00:00  3.036800e+10\n",
      "15 2002-12-31 15:00:00  2.956400e+04\n",
      "16 2002-12-31 16:00:00 -2.909800e+04\n",
      "17 2002-12-31 17:00:00  3.030800e+04\n",
      "18 2002-12-31 18:00:00  3.401700e+04\n",
      "19 2002-12-31 19:00:00  3.419500e+04\n",
      "20 2002-12-31 20:00:00  3.279000e+04\n"
     ]
    }
   ],
   "source": [
    "# Display the cleaned DataFrame (after handling missing values and duplicates)\n",
    "print(\"\\nData after cleaning:\")\n",
    "print(df_cleaned.head(20))"
   ]
  },
  {
   "cell_type": "code",
   "execution_count": 80,
   "metadata": {},
   "outputs": [
    {
     "name": "stdout",
     "output_type": "stream",
     "text": [
      "Outlier values:\n",
      "              Datetime       PJME_MW     z_score\n",
      "10 2002-12-31 11:00:00  3.237100e+10  278.062501\n",
      "14 2002-12-31 14:00:00  3.036800e+10  260.856756\n",
      "16 2002-12-31 16:00:00 -2.909800e+04   -0.004233\n"
     ]
    }
   ],
   "source": [
    "from scipy.stats import zscore\n",
    "# Step 1: Calculate the Z-score for the 'PJME_MW' column\n",
    "df['z_score'] = zscore(df['PJME_MW'])\n",
    "# Step 2: Filter out the outlier values\n",
    "outliers = df[(df['z_score'].abs() > 3) | (df['PJME_MW'] < 0)]\n",
    "# Step 3: Filter out the non-outlier values\n",
    "valid_values = df[~df.index.isin(outliers.index)]\n",
    "# Print the results\n",
    "print(f\"Outlier values:\\n{outliers}\")"
   ]
  },
  {
   "cell_type": "code",
   "execution_count": 81,
   "metadata": {},
   "outputs": [
    {
     "name": "stdout",
     "output_type": "stream",
     "text": [
      "Outlier values have been replaced with the mean value: 32080.239488456566\n",
      "\n",
      "Data after replacing outliers:\n",
      "              Datetime  PJME_MW\n",
      "0  2002-12-31 01:00:00  25146.0\n",
      "1  2002-12-31 02:00:00  25147.0\n",
      "2  2002-12-31 03:00:00  24574.0\n",
      "3  2002-12-31 04:00:00  24717.0\n",
      "4  2002-12-31 05:00:00  24860.0\n",
      "5  2002-12-31 06:00:00  26222.0\n",
      "6  2002-12-31 07:00:00  28702.0\n",
      "7  2002-12-31 08:00:00  30698.0\n",
      "8  2002-12-31 09:00:00  31800.0\n",
      "9  2002-12-31 10:00:00  32359.0\n",
      "10 2002-12-31 11:00:00  32080.0\n",
      "11 2002-12-31 12:00:00  31902.0\n",
      "12 2002-12-31 13:00:00  31126.0\n",
      "13 2002-12-31 13:00:00  31126.0\n",
      "14 2002-12-31 14:00:00  32080.0\n",
      "15 2002-12-31 15:00:00  29564.0\n",
      "16 2002-12-31 16:00:00  32080.0\n",
      "17 2002-12-31 17:00:00  30308.0\n",
      "18 2002-12-31 18:00:00  34017.0\n",
      "19 2002-12-31 19:00:00  34195.0\n"
     ]
    }
   ],
   "source": [
    "# Calculate the mean value from the valid values\n",
    "mean_value = valid_values['PJME_MW'].mean()\n",
    "# Replace the outlier values with the mean value\n",
    "df.loc[outliers.index, 'PJME_MW'] = int(mean_value)\n",
    "# Print the results\n",
    "print(f\"Outlier values have been replaced with the mean value: {mean_value}\")\n",
    "print(\"\\nData after replacing outliers:\")\n",
    "df = df.drop(columns=['z_score'])\n",
    "print(df.head(20))"
   ]
  },
  {
   "cell_type": "markdown",
   "metadata": {},
   "source": [
    "Saving new Data"
   ]
  },
  {
   "cell_type": "code",
   "execution_count": 82,
   "metadata": {},
   "outputs": [],
   "source": [
    "# Save the cleaned data to a new CSV file\n",
    "def save_cleaned_file(df_cleaned, output_folder=\"output\", output_file_name=\"cleaned_data.csv\"):\n",
    "    if df_cleaned is not None:\n",
    "        os.makedirs(output_folder, exist_ok=True)\n",
    "        output_path = os.path.join(output_folder, output_file_name)\n",
    "        try:\n",
    "            df_cleaned.to_csv(output_path, index=False)\n",
    "            print(f\"Cleaned file saved to '{output_path}'\")\n",
    "        except Exception as e:\n",
    "            print(f\"Error saving the cleaned file: {e}\")"
   ]
  },
  {
   "cell_type": "code",
   "execution_count": 83,
   "metadata": {},
   "outputs": [],
   "source": [
    "df.to_csv('output/PJME_hourly_fixed.csv', index=False)"
   ]
  },
  {
   "cell_type": "code",
   "execution_count": 84,
   "metadata": {},
   "outputs": [
    {
     "data": {
      "image/png": "[encoded data removed]",
      "text/plain": [
       "<Figure size 1500x500 with 1 Axes>"
      ]
     },
     "metadata": {},
     "output_type": "display_data"
    }
   ],
   "source": [
    "pjme = pd.read_csv('output/PJME_hourly_fixed.csv', index_col=[0], parse_dates=[0]) #parse_dates change first columm to  datatime \n",
    "color_pal = [\"#F8766D\", \"#D39200\", \"#93AA00\", \"#00BA38\", \"#00C19F\", \"#00B9E3\", \"#619CFF\", \"#DB72FB\"] #color for plot\n",
    "# #F8766D : orange , #D39200 : brown , #93AA00 : green , #00BA38 : cyan\n",
    "_ = pjme.plot(style='.', figsize=(15,5), color=color_pal[0], title='PJM East') #draw plot"
   ]
  }
 ],
 "metadata": {
  "kernelspec": {
   "display_name": "base",
   "language": "python",
   "name": "python3"
  },
  "language_info": {
   "codemirror_mode": {
    "name": "ipython",
    "version": 3
   },
   "file_extension": ".py",
   "mimetype": "text/x-python",
   "name": "python",
   "nbconvert_exporter": "python",
   "pygments_lexer": "ipython3",
   "version": "3.12.3"
  }
 },
 "nbformat": 4,
 "nbformat_minor": 2
}
